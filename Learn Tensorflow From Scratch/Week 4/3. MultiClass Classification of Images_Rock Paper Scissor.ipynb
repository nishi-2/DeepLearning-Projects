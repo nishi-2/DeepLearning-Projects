{
 "cells": [
  {
   "cell_type": "markdown",
   "id": "ddf78a0a",
   "metadata": {},
   "source": [
    "Here we will classify for more than two images. The steps involved are almost the same as before."
   ]
  },
  {
   "cell_type": "code",
   "execution_count": 1,
   "id": "0894b859",
   "metadata": {},
   "outputs": [],
   "source": [
    "import os\n",
    "import random\n",
    "import numpy as np\n",
    "\n",
    "import matplotlib.pyplot as plt\n",
    "import matplotlib.image as mpimg\n",
    "\n",
    "import tensorflow as tf\n",
    "\n",
    "import logging\n",
    "tf.get_logger().setLevel(logging.ERROR)"
   ]
  },
  {
   "cell_type": "code",
   "execution_count": 2,
   "id": "468d830b",
   "metadata": {},
   "outputs": [
    {
     "name": "stdout",
     "output_type": "stream",
     "text": [
      "Total number of training rock images :  329\n",
      "Total number of training paper images :  362\n",
      "Total number of training scissors images :  329\n"
     ]
    }
   ],
   "source": [
    "BASE_DIR = './rps'\n",
    "\n",
    "rock_dir = os.path.join(BASE_DIR, 'train/rock')\n",
    "paper_dir = os.path.join(BASE_DIR, 'train/paper')\n",
    "scissors_dir = os.path.join(BASE_DIR, 'train/scissors')\n",
    "\n",
    "print('Total number of training rock images : ', len(os.listdir(rock_dir)))\n",
    "print('Total number of training paper images : ', len(os.listdir(paper_dir)))\n",
    "print('Total number of training scissors images : ', len(os.listdir(scissors_dir)))"
   ]
  },
  {
   "cell_type": "code",
   "execution_count": 3,
   "id": "7f6d1ed0",
   "metadata": {},
   "outputs": [],
   "source": [
    "rock_files = os.listdir(rock_dir)\n",
    "paper_files = os.listdir(paper_dir)\n",
    "scissors_files = os.listdir(scissors_dir)"
   ]
  },
  {
   "cell_type": "code",
   "execution_count": 4,
   "id": "d2447e84",
   "metadata": {},
   "outputs": [
    {
     "name": "stdout",
     "output_type": "stream",
     "text": [
      "Found 1020 files belonging to 3 classes.\n",
      "Found 804 files belonging to 3 classes.\n"
     ]
    }
   ],
   "source": [
    "TRAIN_DIR = os.path.join(BASE_DIR, 'train')\n",
    "VALIDATION_DIR = os.path.join(BASE_DIR, 'val')\n",
    "\n",
    "training_dataset = tf.keras.utils.image_dataset_from_directory(\n",
    "    TRAIN_DIR,\n",
    "    image_size=(150,150),\n",
    "    batch_size=32,\n",
    "    label_mode='categorical'\n",
    ")\n",
    "\n",
    "validation_dataset = tf.keras.utils.image_dataset_from_directory(\n",
    "    VALIDATION_DIR,\n",
    "    image_size=(150,150),\n",
    "    batch_size=32,\n",
    "    label_mode='categorical'\n",
    ")\n",
    "\n",
    "\n",
    "SHUFFLE_BUFFER_SIZE = 1000\n",
    "PREFETCH_BUFFER_SIZE = tf.data.AUTOTUNE\n",
    "\n",
    "train_dataset_final = training_dataset.cache().shuffle(SHUFFLE_BUFFER_SIZE).prefetch(PREFETCH_BUFFER_SIZE)\n",
    "val_dataset_final = validation_dataset.cache().prefetch(PREFETCH_BUFFER_SIZE)"
   ]
  },
  {
   "cell_type": "code",
   "execution_count": 5,
   "id": "ea7ef53d",
   "metadata": {},
   "outputs": [],
   "source": [
    "data_augmentation_model = tf.keras.Sequential([\n",
    "    tf.keras.Input(shape=(150, 150, 3)),\n",
    "    tf.keras.layers.RandomFlip(\"horizontal\"),\n",
    "    tf.keras.layers.RandomRotation(0.4),\n",
    "    tf.keras.layers.RandomTranslation(0.2, 0.2),\n",
    "    tf.keras.layers.RandomContrast(0.4),\n",
    "    tf.keras.layers.RandomZoom(0.2)\n",
    "])"
   ]
  },
  {
   "cell_type": "code",
   "execution_count": 6,
   "id": "7507b8a5",
   "metadata": {
    "scrolled": true
   },
   "outputs": [
    {
     "name": "stdout",
     "output_type": "stream",
     "text": [
      "Model: \"sequential_1\"\n",
      "_________________________________________________________________\n",
      " Layer (type)                Output Shape              Param #   \n",
      "=================================================================\n",
      " rescaling (Rescaling)       (None, 150, 150, 3)       0         \n",
      "                                                                 \n",
      " conv2d (Conv2D)             (None, 148, 148, 64)      1792      \n",
      "                                                                 \n",
      " max_pooling2d (MaxPooling2D  (None, 74, 74, 64)       0         \n",
      " )                                                               \n",
      "                                                                 \n",
      " conv2d_1 (Conv2D)           (None, 72, 72, 64)        36928     \n",
      "                                                                 \n",
      " max_pooling2d_1 (MaxPooling  (None, 36, 36, 64)       0         \n",
      " 2D)                                                             \n",
      "                                                                 \n",
      " conv2d_2 (Conv2D)           (None, 34, 34, 32)        18464     \n",
      "                                                                 \n",
      " max_pooling2d_2 (MaxPooling  (None, 17, 17, 32)       0         \n",
      " 2D)                                                             \n",
      "                                                                 \n",
      " conv2d_3 (Conv2D)           (None, 15, 15, 32)        9248      \n",
      "                                                                 \n",
      " max_pooling2d_3 (MaxPooling  (None, 7, 7, 32)         0         \n",
      " 2D)                                                             \n",
      "                                                                 \n",
      " flatten (Flatten)           (None, 1568)              0         \n",
      "                                                                 \n",
      " dropout (Dropout)           (None, 1568)              0         \n",
      "                                                                 \n",
      " dense (Dense)               (None, 512)               803328    \n",
      "                                                                 \n",
      " dense_1 (Dense)             (None, 3)                 1539      \n",
      "                                                                 \n",
      "=================================================================\n",
      "Total params: 871,299\n",
      "Trainable params: 871,299\n",
      "Non-trainable params: 0\n",
      "_________________________________________________________________\n"
     ]
    }
   ],
   "source": [
    "model = tf.keras.models.Sequential([\n",
    "    tf.keras.layers.Input(shape=(150,150,3)),\n",
    "    tf.keras.layers.Rescaling(1./255),\n",
    "    tf.keras.layers.Conv2D(64, (3,3), activation='relu'),\n",
    "    tf.keras.layers.MaxPooling2D(2,2),\n",
    "    tf.keras.layers.Conv2D(64, (3,3), activation='relu'),\n",
    "    tf.keras.layers.MaxPooling2D(2,2),\n",
    "    tf.keras.layers.Conv2D(32, (3,3), activation='relu'),  # Change to 128 as per suggestion in course\n",
    "    tf.keras.layers.MaxPooling2D(2,2),\n",
    "    tf.keras.layers.Conv2D(32, (3,3), activation='relu'),  # Change to 64 as per course suggestion\n",
    "    tf.keras.layers.MaxPooling2D(2,2),\n",
    "    tf.keras.layers.Flatten(),\n",
    "    tf.keras.layers.Dropout(0.5),\n",
    "    tf.keras.layers.Dense(512, activation='relu'),\n",
    "    tf.keras.layers.Dense(3, activation='softmax')\n",
    "])\n",
    "\n",
    "model.summary()"
   ]
  },
  {
   "cell_type": "markdown",
   "id": "acc1fefa",
   "metadata": {},
   "source": [
    "I have changed for few number of neurons due to computation limitations"
   ]
  },
  {
   "cell_type": "code",
   "execution_count": 7,
   "id": "b3d9d7fb",
   "metadata": {},
   "outputs": [],
   "source": [
    "model_with_aug = tf.keras.models.Sequential([\n",
    "    data_augmentation_model,\n",
    "    model\n",
    "])\n",
    "\n",
    "model_with_aug.compile(optimizer='rmsprop', loss='categorical_crossentropy', metrics=['accuracy'])"
   ]
  },
  {
   "cell_type": "code",
   "execution_count": 8,
   "id": "22ef8d00",
   "metadata": {},
   "outputs": [],
   "source": [
    "class EarlyStopCallBack(tf.keras.callbacks.Callback):\n",
    "    def on_epoch_end(self, epoch, logs={}):\n",
    "        if logs['accuracy'] > 0.80:\n",
    "            self.model.stop_training=True\n",
    "            print('Model reached 80% accuracy')"
   ]
  },
  {
   "cell_type": "code",
   "execution_count": 9,
   "id": "70e2fd7b",
   "metadata": {
    "scrolled": true
   },
   "outputs": [
    {
     "name": "stdout",
     "output_type": "stream",
     "text": [
      "Epoch 1/25\n",
      "32/32 - 60s - loss: 1.1133 - accuracy: 0.3373 - val_loss: 1.1227 - val_accuracy: 0.3321 - 60s/epoch - 2s/step\n",
      "Epoch 2/25\n",
      "32/32 - 33s - loss: 1.1027 - accuracy: 0.3480 - val_loss: 1.0984 - val_accuracy: 0.3333 - 33s/epoch - 1s/step\n",
      "Epoch 3/25\n",
      "32/32 - 26s - loss: 1.0996 - accuracy: 0.3490 - val_loss: 1.1147 - val_accuracy: 0.3308 - 26s/epoch - 805ms/step\n",
      "Epoch 4/25\n",
      "32/32 - 29s - loss: 1.1016 - accuracy: 0.3422 - val_loss: 1.0886 - val_accuracy: 0.4378 - 29s/epoch - 899ms/step\n",
      "Epoch 5/25\n",
      "32/32 - 27s - loss: 1.0990 - accuracy: 0.3500 - val_loss: 1.0903 - val_accuracy: 0.3607 - 27s/epoch - 844ms/step\n",
      "Epoch 6/25\n",
      "32/32 - 26s - loss: 1.0921 - accuracy: 0.3882 - val_loss: 1.0840 - val_accuracy: 0.3532 - 26s/epoch - 819ms/step\n",
      "Epoch 7/25\n",
      "32/32 - 26s - loss: 1.0874 - accuracy: 0.3794 - val_loss: 1.0705 - val_accuracy: 0.4005 - 26s/epoch - 800ms/step\n",
      "Epoch 8/25\n",
      "32/32 - 25s - loss: 1.0731 - accuracy: 0.4039 - val_loss: 1.0384 - val_accuracy: 0.4614 - 25s/epoch - 792ms/step\n",
      "Epoch 9/25\n",
      "32/32 - 25s - loss: 1.0744 - accuracy: 0.4078 - val_loss: 1.0201 - val_accuracy: 0.4677 - 25s/epoch - 793ms/step\n",
      "Epoch 10/25\n",
      "32/32 - 25s - loss: 1.0535 - accuracy: 0.4461 - val_loss: 0.9766 - val_accuracy: 0.5050 - 25s/epoch - 796ms/step\n",
      "Epoch 11/25\n",
      "32/32 - 25s - loss: 1.0684 - accuracy: 0.4147 - val_loss: 1.0046 - val_accuracy: 0.4739 - 25s/epoch - 776ms/step\n",
      "Epoch 12/25\n",
      "32/32 - 26s - loss: 1.0409 - accuracy: 0.4441 - val_loss: 0.9591 - val_accuracy: 0.5100 - 26s/epoch - 806ms/step\n",
      "Epoch 13/25\n",
      "32/32 - 26s - loss: 1.0457 - accuracy: 0.4529 - val_loss: 1.0361 - val_accuracy: 0.4216 - 26s/epoch - 800ms/step\n",
      "Epoch 14/25\n",
      "32/32 - 26s - loss: 1.0500 - accuracy: 0.4167 - val_loss: 1.0311 - val_accuracy: 0.4303 - 26s/epoch - 805ms/step\n",
      "Epoch 15/25\n",
      "32/32 - 25s - loss: 1.0142 - accuracy: 0.4863 - val_loss: 0.9215 - val_accuracy: 0.5100 - 25s/epoch - 788ms/step\n",
      "Epoch 16/25\n",
      "32/32 - 26s - loss: 1.0014 - accuracy: 0.4804 - val_loss: 1.0725 - val_accuracy: 0.4154 - 26s/epoch - 797ms/step\n",
      "Epoch 17/25\n",
      "32/32 - 26s - loss: 0.9998 - accuracy: 0.4755 - val_loss: 0.9420 - val_accuracy: 0.5261 - 26s/epoch - 809ms/step\n",
      "Epoch 18/25\n",
      "32/32 - 25s - loss: 1.0157 - accuracy: 0.4676 - val_loss: 0.9100 - val_accuracy: 0.5498 - 25s/epoch - 796ms/step\n",
      "Epoch 19/25\n",
      "32/32 - 25s - loss: 1.0107 - accuracy: 0.4941 - val_loss: 0.9680 - val_accuracy: 0.4801 - 25s/epoch - 788ms/step\n",
      "Epoch 20/25\n",
      "32/32 - 25s - loss: 1.0049 - accuracy: 0.4549 - val_loss: 1.1940 - val_accuracy: 0.4129 - 25s/epoch - 785ms/step\n",
      "Epoch 21/25\n",
      "32/32 - 25s - loss: 0.9684 - accuracy: 0.4853 - val_loss: 0.9139 - val_accuracy: 0.5498 - 25s/epoch - 773ms/step\n",
      "Epoch 22/25\n",
      "32/32 - 25s - loss: 0.9623 - accuracy: 0.4941 - val_loss: 0.9160 - val_accuracy: 0.5348 - 25s/epoch - 784ms/step\n",
      "Epoch 23/25\n",
      "32/32 - 25s - loss: 0.9726 - accuracy: 0.4961 - val_loss: 0.9497 - val_accuracy: 0.5435 - 25s/epoch - 784ms/step\n",
      "Epoch 24/25\n",
      "32/32 - 25s - loss: 0.9223 - accuracy: 0.5353 - val_loss: 0.9024 - val_accuracy: 0.5224 - 25s/epoch - 781ms/step\n",
      "Epoch 25/25\n",
      "32/32 - 25s - loss: 0.9481 - accuracy: 0.5225 - val_loss: 0.9781 - val_accuracy: 0.5336 - 25s/epoch - 780ms/step\n"
     ]
    }
   ],
   "source": [
    "history = model_with_aug.fit(\n",
    "    train_dataset_final, epochs = 25, validation_data= val_dataset_final, verbose=2, callbacks=[EarlyStopCallBack()])"
   ]
  },
  {
   "cell_type": "code",
   "execution_count": 10,
   "id": "28171fce",
   "metadata": {},
   "outputs": [],
   "source": [
    "def plot_loss_acc(history):\n",
    "    '''Plots the training and validation loss and accuracy from a history object'''\n",
    "    acc = history.history['accuracy']\n",
    "    val_acc = history.history['val_accuracy']\n",
    "    loss = history.history['loss']\n",
    "    val_loss = history.history['val_loss']\n",
    "\n",
    "    epochs = range(len(acc))\n",
    "\n",
    "    fig, ax = plt.subplots(1,2, figsize=(12, 6))\n",
    "    ax[0].plot(epochs, acc, 'bo', label='Training accuracy')\n",
    "    ax[0].plot(epochs, val_acc, 'b', label='Validation accuracy')\n",
    "    ax[0].set_title('Training and validation accuracy')\n",
    "    ax[0].set_xlabel('epochs')\n",
    "    ax[0].set_ylabel('accuracy')\n",
    "    ax[0].legend()\n",
    "\n",
    "    ax[1].plot(epochs, loss, 'bo', label='Training Loss')\n",
    "    ax[1].plot(epochs, val_loss, 'b', label='Validation Loss')\n",
    "    ax[1].set_title('Training and validation loss')\n",
    "    ax[1].set_xlabel('epochs')\n",
    "    ax[1].set_ylabel('loss')\n",
    "    ax[1].legend()\n",
    "\n",
    "    plt.show()"
   ]
  },
  {
   "cell_type": "code",
   "execution_count": 11,
   "id": "c53b7ae6",
   "metadata": {},
   "outputs": [
    {
     "data": {
      "image/png": "[encoded data removed]",
      "text/plain": [
       "<Figure size 1200x600 with 2 Axes>"
      ]
     },
     "metadata": {},
     "output_type": "display_data"
    }
   ],
   "source": [
    "plot_loss_acc(history)"
   ]
  },
  {
   "cell_type": "code",
   "execution_count": 16,
   "id": "0be9dff1",
   "metadata": {},
   "outputs": [
    {
     "name": "stdout",
     "output_type": "stream",
     "text": [
      "Found 540 files belonging to 3 classes.\n"
     ]
    }
   ],
   "source": [
    "TESTING_DIR = os.path.join(BASE_DIR, 'test')\n",
    "\n",
    "testing_dataset = tf.keras.utils.image_dataset_from_directory(\n",
    "    TESTING_DIR,\n",
    "    image_size=(150,150),\n",
    "    batch_size=32,\n",
    "    label_mode='categorical'\n",
    ")\n",
    "\n",
    "test_loss, test_accuracy = model_with_aug.evaluate(testing_dataset, verbose=False)"
   ]
  },
  {
   "cell_type": "code",
   "execution_count": 17,
   "id": "7980be78",
   "metadata": {},
   "outputs": [
    {
     "data": {
      "text/plain": [
       "(1.0608102083206177, 0.4018518626689911)"
      ]
     },
     "execution_count": 17,
     "metadata": {},
     "output_type": "execute_result"
    }
   ],
   "source": [
    "test_loss, test_accuracy"
   ]
  },
  {
   "cell_type": "code",
   "execution_count": 20,
   "id": "6fe495a5",
   "metadata": {},
   "outputs": [
    {
     "data": {
      "text/plain": [
       "(534, 1878)"
      ]
     },
     "execution_count": 20,
     "metadata": {},
     "output_type": "execute_result"
    }
   ],
   "source": [
    "prediction = model.predict(val_dataset_final, verbose=False)\n",
    "labels = np.concatenate([label_batch.numpy() for _, label_batch in val_dataset_final])\n",
    "labels = [int(lab) for label in labels for lab in label]\n",
    "prediction = [1 if x[0] > 0.5 else 0 for x in prediction]\n",
    "\n",
    "match = sum(a == b for a, b in zip(prediction, labels))\n",
    "non_match = len(labels) - match\n",
    "\n",
    "match, non_match"
   ]
  },
  {
   "cell_type": "markdown",
   "id": "03c73c05",
   "metadata": {},
   "source": [
    "Increase the neuron count and number of epochs to get higher accuracy"
   ]
  },
  {
   "cell_type": "code",
   "execution_count": null,
   "id": "6071797b",
   "metadata": {},
   "outputs": [],
   "source": []
  },
  {
   "cell_type": "code",
   "execution_count": null,
   "id": "ff3a48e5",
   "metadata": {},
   "outputs": [],
   "source": []
  }
 ],
 "metadata": {
  "kernelspec": {
   "display_name": "Python 3 (ipykernel)",
   "language": "python",
   "name": "python3"
  },
  "language_info": {
   "codemirror_mode": {
    "name": "ipython",
    "version": 3
   },
   "file_extension": ".py",
   "mimetype": "text/x-python",
   "name": "python",
   "nbconvert_exporter": "python",
   "pygments_lexer": "ipython3",
   "version": "3.10.15"
  }
 },
 "nbformat": 4,
 "nbformat_minor": 5
}
