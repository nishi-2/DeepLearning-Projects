{
 "cells": [
  {
   "cell_type": "markdown",
   "id": "22000d1d-f982-414f-9e6a-196f7bb19274",
   "metadata": {
    "jp-MarkdownHeadingCollapsed": true
   },
   "source": [
    "### Convolutional Neural Networks (CNNs) - Summary\n",
    "CNNs are a type of deep learning model designed for processing spatial data, mainly images. They use convolutional layers to detect patterns like edges, textures, and shapes in images. Unlike traditional dense networks, CNNs reduce the number of parameters by sharing weights across spatially related pixels, making them highly efficient for tasks like image classification, object detection, and segmentation."
   ]
  },
  {
   "cell_type": "markdown",
   "id": "e7bd8e76-b226-4046-9e99-6d4255261b5f",
   "metadata": {},
   "source": [
    "<b> CNN Properties </b> <br/>\n",
    "<ol> <li> Feature Extraction - \n",
    "CNNs automatically detect patterns in images at different levels. <br/>\n",
    "Example: Early layers detect edges (straight lines, curves)., Mid layers detect textures (fur, waves), Deep layers detect objects (eyes, faces, cars). No need to manually define features—CNNs learn them automatically!\n",
    "</li>\n",
    "    <li>Spatial Hierarchy (Pooling Layers) - Pooling reduces image size while keeping key features. <br/> Example: A 2x2 Max Pooling picks the brightest pixel in a 2x2 region. A 32x32 image becomes 16x16, keeping the strongest features. This speeds up training and prevents overfitting.</li>\n",
    "    <li>Parameter Efficiency (Kernels/Filters) - Instead of assigning a weight to every pixel, CNNs use small filters (kernels) to detect patterns across the image. <br/> Example: A 3x3 filter scans the image and shares weights, unlike dense layers where each pixel has separate weights. Fewer parameters → Faster training & better generalization.</li>\n",
    "    <li> Translation Invariance - CNNs recognize objects even if they shift position. <br/> Example: A CNN trained to detect a cat in the center can still recognize it if it appears in the corner. This makes CNNs robust to changes in object location.</li>\n",
    "</ol>"
   ]
  },
  {
   "cell_type": "markdown",
   "id": "becf2d3a-8c0e-4a04-8a16-a5063697eda5",
   "metadata": {},
   "source": [
    "<b>How CNN Enhances Certain Features?</b> <br/>\n",
    "CNNs enhance certain features through a combination of convolutional layers, activation functions, and pooling operations. When an image passes through the convolutional layers, small filters (kernels) scan the image and detect essential patterns like edges, textures, and shapes. Early layers capture simple features like edges, while deeper layers identify complex structures such as facial features or objects. The activation function, typically ReLU, helps by keeping only the important positive values, suppressing weaker signals, and introducing non-linearity to make the model more powerful. Pooling layers, such as max pooling, further enhance feature selection by downsampling the image, preserving the most critical information while reducing unnecessary noise and computational load. By stacking multiple convolutional and pooling layers, CNNs gradually refine and emphasize the most relevant features in an image. <br/>\n",
    "<b>Why Use Dense Layers with CNN?</b><br/>\n",
    "Dense layers are integrated with CNNs to process and classify the extracted features. After the final convolutional and pooling layers, the multi-dimensional feature maps are flattened into a one-dimensional vector so that they can be passed into fully connected (dense) layers. These layers combine and interpret the extracted features, allowing the model to learn relationships between them. The final dense layer usually contains neurons equal to the number of output classes, using an activation function like softmax for multi-class classification. Essentially, while CNN layers focus on feature extraction, dense layers help in decision-making and classification based on the extracted patterns. Together, CNNs and dense layers create a powerful model capable of recognizing and categorizing images efficiently. So the information flowing to the dense layers are more focused and more accurate."
   ]
  },
  {
   "cell_type": "markdown",
   "id": "d5976fe8-6ce2-418a-bc70-1b90213d08e9",
   "metadata": {},
   "source": [
    "### Code"
   ]
  },
  {
   "cell_type": "code",
   "execution_count": 1,
   "id": "b13777b9-04e8-4651-bf62-62855df3a19e",
   "metadata": {},
   "outputs": [],
   "source": [
    "import tensorflow as tf\n",
    "import matplotlib.pyplot as plt"
   ]
  },
  {
   "cell_type": "code",
   "execution_count": 2,
   "id": "604877ec-0445-49b2-bc87-24acfa1a39c6",
   "metadata": {},
   "outputs": [],
   "source": [
    "# Loading Fashion MNIST dataset\n",
    "\n",
    "fashion_mnist = tf.keras.datasets.fashion_mnist\n",
    "(training_images, training_labels), (testing_images, testing_labels) = fashion_mnist.load_data()"
   ]
  },
  {
   "cell_type": "code",
   "execution_count": 3,
   "id": "fdb3e7c8-9c92-4c27-a0de-123c30201eee",
   "metadata": {},
   "outputs": [],
   "source": [
    "# Normalizing the images\n",
    "\n",
    "training_images=training_images/255.0\n",
    "testing_images = testing_images/255.0"
   ]
  },
  {
   "cell_type": "markdown",
   "id": "04583204-1a24-43f6-b888-51b65a1dc24b",
   "metadata": {},
   "source": [
    "Now we will build the model but this time we will use the CNN in the architecture -"
   ]
  },
  {
   "cell_type": "code",
   "execution_count": 4,
   "id": "bd0cd2c0-83bd-479b-a665-41fd7cae11a6",
   "metadata": {},
   "outputs": [],
   "source": [
    "class callback(tf.keras.callbacks.Callback):\n",
    "    def on_epoch_end(self, epoch, logs = {}):\n",
    "        if logs['accuracy'] >= 0.98:\n",
    "            print('Reached 98%. Stopping the training')\n",
    "            self.model.stop_training = True"
   ]
  },
  {
   "cell_type": "markdown",
   "id": "349e3f63-be2b-4fd2-8687-0b75135fb28e",
   "metadata": {},
   "source": [
    "<b> Let's understand Pooling a bit </b><br/>\n",
    "Pooling is used after convolutional layers to reduce the spatial dimensions of feature maps while retaining the most important information. It helps in downsampling, reducing computations, and preventing overfitting. The most common type is Max Pooling, which selects the highest value from a small region (e.g., 2×2 window), preserving strong features. Average Pooling takes the average of values, smoothing the feature map. Pooling enhances feature extraction by making CNNs more robust to small shifts or distortions in the image. By reducing unnecessary details, pooling layers allow deeper layers to focus on high-level patterns for better classification performance."
   ]
  },
  {
   "cell_type": "code",
   "execution_count": 5,
   "id": "4361f72c-a446-4620-beb0-707fa39c0ecb",
   "metadata": {},
   "outputs": [
    {
     "data": {
      "text/html": [
       "<pre style=\"white-space:pre;overflow-x:auto;line-height:normal;font-family:Menlo,'DejaVu Sans Mono',consolas,'Courier New',monospace\"><span style=\"font-weight: bold\">Model: \"sequential\"</span>\n",
       "</pre>\n"
      ],
      "text/plain": [
       "\u001b[1mModel: \"sequential\"\u001b[0m\n"
      ]
     },
     "metadata": {},
     "output_type": "display_data"
    },
    {
     "data": {
      "text/html": [
       "<pre style=\"white-space:pre;overflow-x:auto;line-height:normal;font-family:Menlo,'DejaVu Sans Mono',consolas,'Courier New',monospace\">┏━━━━━━━━━━━━━━━━━━━━━━━━━━━━━━━━━━━━━━┳━━━━━━━━━━━━━━━━━━━━━━━━━━━━━┳━━━━━━━━━━━━━━━━━┓\n",
       "┃<span style=\"font-weight: bold\"> Layer (type)                         </span>┃<span style=\"font-weight: bold\"> Output Shape                </span>┃<span style=\"font-weight: bold\">         Param # </span>┃\n",
       "┡━━━━━━━━━━━━━━━━━━━━━━━━━━━━━━━━━━━━━━╇━━━━━━━━━━━━━━━━━━━━━━━━━━━━━╇━━━━━━━━━━━━━━━━━┩\n",
       "│ conv2d (<span style=\"color: #0087ff; text-decoration-color: #0087ff\">Conv2D</span>)                      │ (<span style=\"color: #00d7ff; text-decoration-color: #00d7ff\">None</span>, <span style=\"color: #00af00; text-decoration-color: #00af00\">26</span>, <span style=\"color: #00af00; text-decoration-color: #00af00\">26</span>, <span style=\"color: #00af00; text-decoration-color: #00af00\">64</span>)          │             <span style=\"color: #00af00; text-decoration-color: #00af00\">640</span> │\n",
       "├──────────────────────────────────────┼─────────────────────────────┼─────────────────┤\n",
       "│ max_pooling2d (<span style=\"color: #0087ff; text-decoration-color: #0087ff\">MaxPooling2D</span>)         │ (<span style=\"color: #00d7ff; text-decoration-color: #00d7ff\">None</span>, <span style=\"color: #00af00; text-decoration-color: #00af00\">13</span>, <span style=\"color: #00af00; text-decoration-color: #00af00\">13</span>, <span style=\"color: #00af00; text-decoration-color: #00af00\">64</span>)          │               <span style=\"color: #00af00; text-decoration-color: #00af00\">0</span> │\n",
       "├──────────────────────────────────────┼─────────────────────────────┼─────────────────┤\n",
       "│ conv2d_1 (<span style=\"color: #0087ff; text-decoration-color: #0087ff\">Conv2D</span>)                    │ (<span style=\"color: #00d7ff; text-decoration-color: #00d7ff\">None</span>, <span style=\"color: #00af00; text-decoration-color: #00af00\">11</span>, <span style=\"color: #00af00; text-decoration-color: #00af00\">11</span>, <span style=\"color: #00af00; text-decoration-color: #00af00\">64</span>)          │          <span style=\"color: #00af00; text-decoration-color: #00af00\">36,928</span> │\n",
       "├──────────────────────────────────────┼─────────────────────────────┼─────────────────┤\n",
       "│ max_pooling2d_1 (<span style=\"color: #0087ff; text-decoration-color: #0087ff\">MaxPooling2D</span>)       │ (<span style=\"color: #00d7ff; text-decoration-color: #00d7ff\">None</span>, <span style=\"color: #00af00; text-decoration-color: #00af00\">5</span>, <span style=\"color: #00af00; text-decoration-color: #00af00\">5</span>, <span style=\"color: #00af00; text-decoration-color: #00af00\">64</span>)            │               <span style=\"color: #00af00; text-decoration-color: #00af00\">0</span> │\n",
       "├──────────────────────────────────────┼─────────────────────────────┼─────────────────┤\n",
       "│ flatten (<span style=\"color: #0087ff; text-decoration-color: #0087ff\">Flatten</span>)                    │ (<span style=\"color: #00d7ff; text-decoration-color: #00d7ff\">None</span>, <span style=\"color: #00af00; text-decoration-color: #00af00\">1600</span>)                │               <span style=\"color: #00af00; text-decoration-color: #00af00\">0</span> │\n",
       "├──────────────────────────────────────┼─────────────────────────────┼─────────────────┤\n",
       "│ dense (<span style=\"color: #0087ff; text-decoration-color: #0087ff\">Dense</span>)                        │ (<span style=\"color: #00d7ff; text-decoration-color: #00d7ff\">None</span>, <span style=\"color: #00af00; text-decoration-color: #00af00\">128</span>)                 │         <span style=\"color: #00af00; text-decoration-color: #00af00\">204,928</span> │\n",
       "├──────────────────────────────────────┼─────────────────────────────┼─────────────────┤\n",
       "│ dense_1 (<span style=\"color: #0087ff; text-decoration-color: #0087ff\">Dense</span>)                      │ (<span style=\"color: #00d7ff; text-decoration-color: #00d7ff\">None</span>, <span style=\"color: #00af00; text-decoration-color: #00af00\">10</span>)                  │           <span style=\"color: #00af00; text-decoration-color: #00af00\">1,290</span> │\n",
       "└──────────────────────────────────────┴─────────────────────────────┴─────────────────┘\n",
       "</pre>\n"
      ],
      "text/plain": [
       "┏━━━━━━━━━━━━━━━━━━━━━━━━━━━━━━━━━━━━━━┳━━━━━━━━━━━━━━━━━━━━━━━━━━━━━┳━━━━━━━━━━━━━━━━━┓\n",
       "┃\u001b[1m \u001b[0m\u001b[1mLayer (type)                        \u001b[0m\u001b[1m \u001b[0m┃\u001b[1m \u001b[0m\u001b[1mOutput Shape               \u001b[0m\u001b[1m \u001b[0m┃\u001b[1m \u001b[0m\u001b[1m        Param #\u001b[0m\u001b[1m \u001b[0m┃\n",
       "┡━━━━━━━━━━━━━━━━━━━━━━━━━━━━━━━━━━━━━━╇━━━━━━━━━━━━━━━━━━━━━━━━━━━━━╇━━━━━━━━━━━━━━━━━┩\n",
       "│ conv2d (\u001b[38;5;33mConv2D\u001b[0m)                      │ (\u001b[38;5;45mNone\u001b[0m, \u001b[38;5;34m26\u001b[0m, \u001b[38;5;34m26\u001b[0m, \u001b[38;5;34m64\u001b[0m)          │             \u001b[38;5;34m640\u001b[0m │\n",
       "├──────────────────────────────────────┼─────────────────────────────┼─────────────────┤\n",
       "│ max_pooling2d (\u001b[38;5;33mMaxPooling2D\u001b[0m)         │ (\u001b[38;5;45mNone\u001b[0m, \u001b[38;5;34m13\u001b[0m, \u001b[38;5;34m13\u001b[0m, \u001b[38;5;34m64\u001b[0m)          │               \u001b[38;5;34m0\u001b[0m │\n",
       "├──────────────────────────────────────┼─────────────────────────────┼─────────────────┤\n",
       "│ conv2d_1 (\u001b[38;5;33mConv2D\u001b[0m)                    │ (\u001b[38;5;45mNone\u001b[0m, \u001b[38;5;34m11\u001b[0m, \u001b[38;5;34m11\u001b[0m, \u001b[38;5;34m64\u001b[0m)          │          \u001b[38;5;34m36,928\u001b[0m │\n",
       "├──────────────────────────────────────┼─────────────────────────────┼─────────────────┤\n",
       "│ max_pooling2d_1 (\u001b[38;5;33mMaxPooling2D\u001b[0m)       │ (\u001b[38;5;45mNone\u001b[0m, \u001b[38;5;34m5\u001b[0m, \u001b[38;5;34m5\u001b[0m, \u001b[38;5;34m64\u001b[0m)            │               \u001b[38;5;34m0\u001b[0m │\n",
       "├──────────────────────────────────────┼─────────────────────────────┼─────────────────┤\n",
       "│ flatten (\u001b[38;5;33mFlatten\u001b[0m)                    │ (\u001b[38;5;45mNone\u001b[0m, \u001b[38;5;34m1600\u001b[0m)                │               \u001b[38;5;34m0\u001b[0m │\n",
       "├──────────────────────────────────────┼─────────────────────────────┼─────────────────┤\n",
       "│ dense (\u001b[38;5;33mDense\u001b[0m)                        │ (\u001b[38;5;45mNone\u001b[0m, \u001b[38;5;34m128\u001b[0m)                 │         \u001b[38;5;34m204,928\u001b[0m │\n",
       "├──────────────────────────────────────┼─────────────────────────────┼─────────────────┤\n",
       "│ dense_1 (\u001b[38;5;33mDense\u001b[0m)                      │ (\u001b[38;5;45mNone\u001b[0m, \u001b[38;5;34m10\u001b[0m)                  │           \u001b[38;5;34m1,290\u001b[0m │\n",
       "└──────────────────────────────────────┴─────────────────────────────┴─────────────────┘\n"
      ]
     },
     "metadata": {},
     "output_type": "display_data"
    },
    {
     "data": {
      "text/html": [
       "<pre style=\"white-space:pre;overflow-x:auto;line-height:normal;font-family:Menlo,'DejaVu Sans Mono',consolas,'Courier New',monospace\"><span style=\"font-weight: bold\"> Total params: </span><span style=\"color: #00af00; text-decoration-color: #00af00\">243,786</span> (952.29 KB)\n",
       "</pre>\n"
      ],
      "text/plain": [
       "\u001b[1m Total params: \u001b[0m\u001b[38;5;34m243,786\u001b[0m (952.29 KB)\n"
      ]
     },
     "metadata": {},
     "output_type": "display_data"
    },
    {
     "data": {
      "text/html": [
       "<pre style=\"white-space:pre;overflow-x:auto;line-height:normal;font-family:Menlo,'DejaVu Sans Mono',consolas,'Courier New',monospace\"><span style=\"font-weight: bold\"> Trainable params: </span><span style=\"color: #00af00; text-decoration-color: #00af00\">243,786</span> (952.29 KB)\n",
       "</pre>\n"
      ],
      "text/plain": [
       "\u001b[1m Trainable params: \u001b[0m\u001b[38;5;34m243,786\u001b[0m (952.29 KB)\n"
      ]
     },
     "metadata": {},
     "output_type": "display_data"
    },
    {
     "data": {
      "text/html": [
       "<pre style=\"white-space:pre;overflow-x:auto;line-height:normal;font-family:Menlo,'DejaVu Sans Mono',consolas,'Courier New',monospace\"><span style=\"font-weight: bold\"> Non-trainable params: </span><span style=\"color: #00af00; text-decoration-color: #00af00\">0</span> (0.00 B)\n",
       "</pre>\n"
      ],
      "text/plain": [
       "\u001b[1m Non-trainable params: \u001b[0m\u001b[38;5;34m0\u001b[0m (0.00 B)\n"
      ]
     },
     "metadata": {},
     "output_type": "display_data"
    }
   ],
   "source": [
    "model = tf.keras.models.Sequential([\n",
    "    tf.keras.Input(shape=(28,28,1)),  # Input will come first\n",
    "    tf.keras.layers.Conv2D(64, (3,3), activation='relu'),  # First convolution layer. Explained below\n",
    "    tf.keras.layers.MaxPool2D(2,2),    # First maxpooling layer. Explained below\n",
    "    tf.keras.layers.Conv2D(64, (3,3), activation='relu'), # Second covolution layer\n",
    "    tf.keras.layers.MaxPool2D(2,2),  # Second maxpooling layer\n",
    "    tf.keras.layers.Flatten(),  # Flatten layer\n",
    "    tf.keras.layers.Dense(128, activation='relu'),  # First dense layer\n",
    "    tf.keras.layers.Dense(10, activation='softmax')  # Output layer\n",
    "])\n",
    "\n",
    "model.summary()"
   ]
  },
  {
   "cell_type": "markdown",
   "id": "1d9e2cc1-2e3f-4eea-be8e-1960cec5409e",
   "metadata": {},
   "source": [
    "This CNN model is designed for image classification - <br/>\n",
    "\n",
    "-   Input Layer: Accepts grayscale images of size (28,28,1).\n",
    "-   First Conv Layer: Applies 64 filters of size (3x3) with ReLU activation to detect patterns.\n",
    "-  MaxPooling (2x2): Reduces feature map size, keeping important details.\n",
    "- Second Conv + MaxPooling: Further extracts deeper features.\n",
    "-  Flatten: Converts 2D feature maps into a 1D vector for the dense layers.\n",
    "-  Dense (128 neurons, ReLU): Fully connected layer for feature learning.\n",
    "-  Output (10 neurons, Softmax): Predicts class probabilities for 10 categories (digits 0-9). "
   ]
  },
  {
   "cell_type": "code",
   "execution_count": 6,
   "id": "19337de7-cb5f-471e-90b3-f8239ed64030",
   "metadata": {
    "scrolled": true
   },
   "outputs": [
    {
     "name": "stdout",
     "output_type": "stream",
     "text": [
      "Epoch 1/30\n",
      "\u001b[1m1875/1875\u001b[0m \u001b[32m━━━━━━━━━━━━━━━━━━━━\u001b[0m\u001b[37m\u001b[0m \u001b[1m9s\u001b[0m 4ms/step - accuracy: 0.7852 - loss: 0.5989\n",
      "Epoch 2/30\n",
      "\u001b[1m1875/1875\u001b[0m \u001b[32m━━━━━━━━━━━━━━━━━━━━\u001b[0m\u001b[37m\u001b[0m \u001b[1m7s\u001b[0m 4ms/step - accuracy: 0.8865 - loss: 0.3069\n",
      "Epoch 3/30\n",
      "\u001b[1m1875/1875\u001b[0m \u001b[32m━━━━━━━━━━━━━━━━━━━━\u001b[0m\u001b[37m\u001b[0m \u001b[1m8s\u001b[0m 4ms/step - accuracy: 0.9052 - loss: 0.2546\n",
      "Epoch 4/30\n",
      "\u001b[1m1875/1875\u001b[0m \u001b[32m━━━━━━━━━━━━━━━━━━━━\u001b[0m\u001b[37m\u001b[0m \u001b[1m8s\u001b[0m 4ms/step - accuracy: 0.9191 - loss: 0.2157\n",
      "Epoch 5/30\n",
      "\u001b[1m1875/1875\u001b[0m \u001b[32m━━━━━━━━━━━━━━━━━━━━\u001b[0m\u001b[37m\u001b[0m \u001b[1m8s\u001b[0m 4ms/step - accuracy: 0.9297 - loss: 0.1880\n",
      "Epoch 6/30\n",
      "\u001b[1m1875/1875\u001b[0m \u001b[32m━━━━━━━━━━━━━━━━━━━━\u001b[0m\u001b[37m\u001b[0m \u001b[1m8s\u001b[0m 4ms/step - accuracy: 0.9392 - loss: 0.1617\n",
      "Epoch 7/30\n",
      "\u001b[1m1875/1875\u001b[0m \u001b[32m━━━━━━━━━━━━━━━━━━━━\u001b[0m\u001b[37m\u001b[0m \u001b[1m8s\u001b[0m 4ms/step - accuracy: 0.9465 - loss: 0.1442\n",
      "Epoch 8/30\n",
      "\u001b[1m1875/1875\u001b[0m \u001b[32m━━━━━━━━━━━━━━━━━━━━\u001b[0m\u001b[37m\u001b[0m \u001b[1m8s\u001b[0m 4ms/step - accuracy: 0.9522 - loss: 0.1276\n",
      "Epoch 9/30\n",
      "\u001b[1m1875/1875\u001b[0m \u001b[32m━━━━━━━━━━━━━━━━━━━━\u001b[0m\u001b[37m\u001b[0m \u001b[1m8s\u001b[0m 4ms/step - accuracy: 0.9590 - loss: 0.1088\n",
      "Epoch 10/30\n",
      "\u001b[1m1875/1875\u001b[0m \u001b[32m━━━━━━━━━━━━━━━━━━━━\u001b[0m\u001b[37m\u001b[0m \u001b[1m8s\u001b[0m 4ms/step - accuracy: 0.9640 - loss: 0.0960\n",
      "Epoch 11/30\n",
      "\u001b[1m1875/1875\u001b[0m \u001b[32m━━━━━━━━━━━━━━━━━━━━\u001b[0m\u001b[37m\u001b[0m \u001b[1m8s\u001b[0m 4ms/step - accuracy: 0.9671 - loss: 0.0856\n",
      "Epoch 12/30\n",
      "\u001b[1m1875/1875\u001b[0m \u001b[32m━━━━━━━━━━━━━━━━━━━━\u001b[0m\u001b[37m\u001b[0m \u001b[1m8s\u001b[0m 4ms/step - accuracy: 0.9704 - loss: 0.0764\n",
      "Epoch 13/30\n",
      "\u001b[1m1875/1875\u001b[0m \u001b[32m━━━━━━━━━━━━━━━━━━━━\u001b[0m\u001b[37m\u001b[0m \u001b[1m8s\u001b[0m 4ms/step - accuracy: 0.9751 - loss: 0.0678\n",
      "Epoch 14/30\n",
      "\u001b[1m1875/1875\u001b[0m \u001b[32m━━━━━━━━━━━━━━━━━━━━\u001b[0m\u001b[37m\u001b[0m \u001b[1m8s\u001b[0m 4ms/step - accuracy: 0.9775 - loss: 0.0585\n",
      "Epoch 15/30\n",
      "\u001b[1m1875/1875\u001b[0m \u001b[32m━━━━━━━━━━━━━━━━━━━━\u001b[0m\u001b[37m\u001b[0m \u001b[1m8s\u001b[0m 4ms/step - accuracy: 0.9811 - loss: 0.0508\n",
      "Epoch 16/30\n",
      "\u001b[1m1875/1875\u001b[0m \u001b[32m━━━━━━━━━━━━━━━━━━━━\u001b[0m\u001b[37m\u001b[0m \u001b[1m8s\u001b[0m 4ms/step - accuracy: 0.9808 - loss: 0.0494\n",
      "Epoch 17/30\n",
      "\u001b[1m1870/1875\u001b[0m \u001b[32m━━━━━━━━━━━━━━━━━━━\u001b[0m\u001b[37m━\u001b[0m \u001b[1m0s\u001b[0m 5ms/step - accuracy: 0.9840 - loss: 0.0426Reached 98%. Stopping the training\n",
      "\u001b[1m1875/1875\u001b[0m \u001b[32m━━━━━━━━━━━━━━━━━━━━\u001b[0m\u001b[37m\u001b[0m \u001b[1m9s\u001b[0m 5ms/step - accuracy: 0.9840 - loss: 0.0426\n"
     ]
    },
    {
     "data": {
      "text/plain": [
       "<keras.src.callbacks.history.History at 0x1d60e7c9060>"
      ]
     },
     "execution_count": 6,
     "metadata": {},
     "output_type": "execute_result"
    }
   ],
   "source": [
    "model.compile(optimizer='adam', loss=tf.keras.losses.SparseCategoricalCrossentropy(), metrics = ['accuracy'])\n",
    "\n",
    "model.fit(training_images, training_labels, epochs = 30, callbacks=[callback()])"
   ]
  },
  {
   "cell_type": "code",
   "execution_count": 8,
   "id": "1b2067a8-768d-45ec-8367-f0cf26749aef",
   "metadata": {},
   "outputs": [
    {
     "name": "stdout",
     "output_type": "stream",
     "text": [
      "Loss is  0.41473188996315\n",
      "Accuracy is  0.9126999974250793\n"
     ]
    }
   ],
   "source": [
    "# Now we will evaluate the model\n",
    "\n",
    "test_loss, test_accuracy = model.evaluate(testing_images, testing_labels, verbose=0)\n",
    "print('Loss is ',test_loss)\n",
    "print('Accuracy is ',test_accuracy)"
   ]
  },
  {
   "cell_type": "markdown",
   "id": "67bf558a-7144-4e57-b1c8-ec2841d0ed81",
   "metadata": {},
   "source": [
    "The model performed much better than with only dense layers but we can sense overfitting here. Overfitting occurs when a model learns patterns too specific to the training data, reducing its ability to generalize to unseen data. Running for too many epochs can cause the model to memorize training examples instead of learning meaningful patterns. Model achieving 98% training accuracy but only 91.26% testing accuracy suggests mild overfitting, though the similar loss values indicate it is not severe. This means the model is still performing well but may struggle slightly with unseen data. To reduce overfitting, techniques like early stopping, dropout, data augmentation, or L2 regularization can be used to improve generalization."
   ]
  },
  {
   "cell_type": "code",
   "execution_count": 41,
   "id": "56b4a51e-9ba7-45fd-ad2a-740c07e20a14",
   "metadata": {},
   "outputs": [
    {
     "name": "stdout",
     "output_type": "stream",
     "text": [
      "\u001b[1m1/1\u001b[0m \u001b[32m━━━━━━━━━━━━━━━━━━━━\u001b[0m\u001b[37m\u001b[0m \u001b[1m0s\u001b[0m 17ms/step\n"
     ]
    },
    {
     "data": {
      "text/plain": [
       "7"
      ]
     },
     "execution_count": 41,
     "metadata": {},
     "output_type": "execute_result"
    }
   ],
   "source": [
    "import numpy as np\n",
    "np.argmax(model.predict(testing_images[104:105]))"
   ]
  },
  {
   "cell_type": "code",
   "execution_count": 16,
   "id": "91278c62-1454-4c34-a9e4-b781e3ae51e9",
   "metadata": {},
   "outputs": [
    {
     "data": {
      "text/plain": [
       "7"
      ]
     },
     "execution_count": 16,
     "metadata": {},
     "output_type": "execute_result"
    }
   ],
   "source": [
    "testing_labels[104]"
   ]
  },
  {
   "cell_type": "markdown",
   "id": "ee9f0c93-8088-4455-9d7c-b23ee88795e0",
   "metadata": {},
   "source": [
    "### Visualizing convolution and maxpooling layers"
   ]
  },
  {
   "cell_type": "markdown",
   "id": "c962e06a-90fb-4f2c-ab34-7bf1affd503e",
   "metadata": {},
   "source": [
    "Let's pick for label 7 to visualize. We will select three images of label 7 -"
   ]
  },
  {
   "cell_type": "code",
   "execution_count": 61,
   "id": "f9997d65-6034-4da5-8af2-af04b2fa423f",
   "metadata": {},
   "outputs": [
    {
     "data": {
      "text/plain": [
       "[9, 12, 22, 36, 38, 43, 45]"
      ]
     },
     "execution_count": 61,
     "metadata": {},
     "output_type": "execute_result"
    }
   ],
   "source": [
    "[i for i in range(50) if testing_labels[i] == 7]"
   ]
  },
  {
   "cell_type": "code",
   "execution_count": 62,
   "id": "4cccccb3-9e55-4fbe-a741-0ba81b6b1103",
   "metadata": {},
   "outputs": [],
   "source": [
    "FIRST_IMAGE = 9\n",
    "SECOND_IMAGE = 22\n",
    "THIRD_IMAGE = 45\n",
    "\n",
    "CONVOLUTION_NUMBER = 2\n",
    "\n",
    "LAYERS_TO_VIZUALIZE = [tf.keras.layers.Conv2D, tf.keras.layers.MaxPooling2D]"
   ]
  },
  {
   "cell_type": "markdown",
   "id": "d89feb60-0457-4d36-8560-5c6653afcbea",
   "metadata": {},
   "source": [
    "These three lines define the indices of the images you want to visualize from your testing_images dataset. FIRST_IMAGE, SECOND_IMAGE, and THIRD_IMAGE correspond to the image at indices 9, 22, and 45, respectively.\n",
    "<br/>\n",
    "CONVOLUTION_NUMBER - This sets the index of the convolutional layer you want to visualize. It assumes there are multiple filters (convolutions) in the layer (in our case its 64 in the first layer and 64 in the second layer), and you want to visualize the 2nd convolution filter in each layer.\n",
    "<br/>\n",
    "LAYERS_TO_VIZUALIZE - Defines the layers you want to visualize, specifically Conv2D and MaxPooling2D. These are the layers from which you'll extract activations."
   ]
  },
  {
   "cell_type": "code",
   "execution_count": 63,
   "id": "3384d6fc-07a8-4a6c-bb14-f43441f8dc5f",
   "metadata": {},
   "outputs": [
    {
     "data": {
      "text/plain": [
       "[<Conv2D name=conv2d, built=True>,\n",
       " <MaxPooling2D name=max_pooling2d, built=True>,\n",
       " <Conv2D name=conv2d_1, built=True>,\n",
       " <MaxPooling2D name=max_pooling2d_1, built=True>,\n",
       " <Flatten name=flatten, built=True>,\n",
       " <Dense name=dense, built=True>,\n",
       " <Dense name=dense_1, built=True>]"
      ]
     },
     "execution_count": 63,
     "metadata": {},
     "output_type": "execute_result"
    }
   ],
   "source": [
    "model.layers"
   ]
  },
  {
   "cell_type": "code",
   "execution_count": 64,
   "id": "7cd244fc-2d0c-4826-8ad6-45100b950676",
   "metadata": {},
   "outputs": [
    {
     "data": {
      "text/plain": [
       "[<KerasTensor shape=(None, 26, 26, 64), dtype=float32, sparse=False, name=keras_tensor_1>,\n",
       " <KerasTensor shape=(None, 13, 13, 64), dtype=float32, sparse=False, name=keras_tensor_2>,\n",
       " <KerasTensor shape=(None, 11, 11, 64), dtype=float32, sparse=False, name=keras_tensor_3>,\n",
       " <KerasTensor shape=(None, 5, 5, 64), dtype=float32, sparse=False, name=keras_tensor_4>]"
      ]
     },
     "execution_count": 64,
     "metadata": {},
     "output_type": "execute_result"
    }
   ],
   "source": [
    "layer_outputs = [layer.output for layer in model.layers if type(layer) in LAYERS_TO_VIZUALIZE]\n",
    "layer_outputs"
   ]
  },
  {
   "cell_type": "markdown",
   "id": "3c2b7325-b923-417c-a9f5-f622a204659d",
   "metadata": {},
   "source": [
    "This line generates a list of output tensors from the layers of type Conv2D or MaxPooling2D in the model. It iterates through all layers in model, checks their type, and appends the output tensor to layer_outputs."
   ]
  },
  {
   "cell_type": "code",
   "execution_count": 65,
   "id": "17d28d5d-809f-4a42-a395-56a8ddde9980",
   "metadata": {},
   "outputs": [
    {
     "data": {
      "text/plain": [
       "[<KerasTensor shape=(None, 28, 28, 1), dtype=float32, sparse=None, name=keras_tensor>]"
      ]
     },
     "execution_count": 65,
     "metadata": {},
     "output_type": "execute_result"
    }
   ],
   "source": [
    "model.inputs"
   ]
  },
  {
   "cell_type": "code",
   "execution_count": 66,
   "id": "b4d13fce-bd8e-4b12-8e42-bb399b5e307b",
   "metadata": {},
   "outputs": [
    {
     "data": {
      "text/plain": [
       "<Functional name=functional_4, built=True>"
      ]
     },
     "execution_count": 66,
     "metadata": {},
     "output_type": "execute_result"
    }
   ],
   "source": [
    "activation_model = tf.keras.models.Model(inputs=model.inputs, outputs=layer_outputs)\n",
    "activation_model"
   ]
  },
  {
   "cell_type": "markdown",
   "id": "ac8fa1b9-0eb1-48dc-bc68-13ff181caea8",
   "metadata": {},
   "source": [
    "This creates a new activation model using the Functional API. It defines a new model that takes the same inputs as the original model but outputs the activation values from the layers defined in layer_outputs."
   ]
  },
  {
   "cell_type": "code",
   "execution_count": 67,
   "id": "3f589bb3-5c64-413e-ab04-1c882407706a",
   "metadata": {},
   "outputs": [
    {
     "data": {
      "image/png": "[encoded data removed]",
      "text/plain": [
       "<Figure size 640x480 with 12 Axes>"
      ]
     },
     "metadata": {},
     "output_type": "display_data"
    }
   ],
   "source": [
    "f, axis = plt.subplots(3, len(layer_outputs))  #3 rows (for the three images) and len(layer_outputs) columns (one for each layer to visualize)\n",
    "\n",
    "\n",
    "#A loop that iterates over each layer output in layer_outputs. x is the index for the layer you're processing in each iteration.\n",
    "for x in range(len(layer_outputs)):\n",
    "    f1 = activation_model.predict(testing_images[FIRST_IMAGE].reshape(1,28,28,1), verbose=False)[x]\n",
    "    axis[0, x].imshow(f1[0, :, :, CONVOLUTION_NUMBER], cmap = 'inferno')\n",
    "    axis[0,x].grid(False)\n",
    "\n",
    "    f2 = activation_model.predict(testing_images[SECOND_IMAGE].reshape(1,28,28,1), verbose=False)[x]\n",
    "    axis[1, x].imshow(f2[0, :, :, CONVOLUTION_NUMBER], cmap = 'inferno')\n",
    "    axis[1,x].grid(False)\n",
    "\n",
    "    f3 = activation_model.predict(testing_images[THIRD_IMAGE].reshape(1,28,28,1), verbose=False)[x]\n",
    "    axis[2, x].imshow(f3[0, :, :, CONVOLUTION_NUMBER], cmap = 'inferno')\n",
    "    axis[2,x].grid(False)"
   ]
  },
  {
   "cell_type": "markdown",
   "id": "ebf54688-2a23-4666-aadc-9170c613f3e9",
   "metadata": {},
   "source": [
    "Code explanation picking the first image example as all the three are same - <br/>\n",
    "- testing_images[FIRST_IMAGE].reshape(1,28,28,1): Reshapes the image at index 9 into a batch of 1 image with shape (1, 28, 28, 1) (required input shape for Conv2D).\n",
    "- activation_model.predict(...)[x]: Runs the image through the activation_model and extracts the activations for the x-th layer.\n",
    "- f1[0, :, :, CONVOLUTION_NUMBER]: Selects the 2nd convolutional filter (indexed by CONVOLUTION_NUMBER = 2).\n",
    "- imshow(): Visualizes the feature map of that convolutional filter using the 'inferno' colormap.\n",
    "- grid(False): Disables the grid lines on the plot for clarity."
   ]
  },
  {
   "cell_type": "markdown",
   "id": "09df2474-c7d8-4487-ba0a-6f5df4bbb49d",
   "metadata": {},
   "source": [
    "Let's select a different convolution number of 30 -"
   ]
  },
  {
   "cell_type": "code",
   "execution_count": 69,
   "id": "989b1d4f-6a13-4bbb-aed2-a7dae63f17c5",
   "metadata": {},
   "outputs": [
    {
     "data": {
      "image/png": "[encoded data removed]",
      "text/plain": [
       "<Figure size 640x480 with 12 Axes>"
      ]
     },
     "metadata": {},
     "output_type": "display_data"
    }
   ],
   "source": [
    "CONVOLUTION_NUMBER = 30\n",
    "\n",
    "f, axis = plt.subplots(3, len(layer_outputs))  #3 rows (for the three images) and len(layer_outputs) columns (one for each layer to visualize)\n",
    "\n",
    "\n",
    "#A loop that iterates over each layer output in layer_outputs. x is the index for the layer you're processing in each iteration.\n",
    "for x in range(len(layer_outputs)):\n",
    "    f1 = activation_model.predict(testing_images[FIRST_IMAGE].reshape(1,28,28,1), verbose=False)[x]\n",
    "    axis[0, x].imshow(f1[0, :, :, CONVOLUTION_NUMBER], cmap = 'inferno')\n",
    "    axis[0,x].grid(False)\n",
    "\n",
    "    f2 = activation_model.predict(testing_images[SECOND_IMAGE].reshape(1,28,28,1), verbose=False)[x]\n",
    "    axis[1, x].imshow(f2[0, :, :, CONVOLUTION_NUMBER], cmap = 'inferno')\n",
    "    axis[1,x].grid(False)\n",
    "\n",
    "    f3 = activation_model.predict(testing_images[THIRD_IMAGE].reshape(1,28,28,1), verbose=False)[x]\n",
    "    axis[2, x].imshow(f3[0, :, :, CONVOLUTION_NUMBER], cmap = 'inferno')\n",
    "    axis[2,x].grid(False)"
   ]
  },
  {
   "cell_type": "code",
   "execution_count": null,
   "id": "e3dbf05e-a588-470a-8b0b-a08351f06639",
   "metadata": {},
   "outputs": [],
   "source": []
  },
  {
   "cell_type": "code",
   "execution_count": null,
   "id": "6bfd4e34-57e2-467e-a9ed-80c685fbc75b",
   "metadata": {},
   "outputs": [],
   "source": []
  }
 ],
 "metadata": {
  "kernelspec": {
   "display_name": "Python 3 (ipykernel)",
   "language": "python",
   "name": "python3"
  },
  "language_info": {
   "codemirror_mode": {
    "name": "ipython",
    "version": 3
   },
   "file_extension": ".py",
   "mimetype": "text/x-python",
   "name": "python",
   "nbconvert_exporter": "python",
   "pygments_lexer": "ipython3",
   "version": "3.10.8"
  }
 },
 "nbformat": 4,
 "nbformat_minor": 5
}
