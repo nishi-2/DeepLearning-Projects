{
 "cells": [
  {
   "cell_type": "markdown",
   "id": "dd912262-7556-41e1-91cd-430ada5be8fc",
   "metadata": {},
   "source": [
    "Let's try to use the CNN concept in the MNIST datase and see if we can increase the accuracy to more than 99.5% using single convolution and maxpooling layer, and within 10 epochs. Code structure and concept remains the same."
   ]
  },
  {
   "cell_type": "code",
   "execution_count": 1,
   "id": "74c8fbbd-632b-4565-ad58-b833f61a5234",
   "metadata": {},
   "outputs": [],
   "source": [
    "import tensorflow as tf\n",
    "import numpy as np\n",
    "import matplotlib.pyplot as plt"
   ]
  },
  {
   "cell_type": "code",
   "execution_count": 3,
   "id": "2bde7add-132c-4ed6-83ee-7efaf328a043",
   "metadata": {},
   "outputs": [],
   "source": [
    "mnist = tf.keras.datasets.mnist\n",
    "(training_images, training_labels), (testing_images, testing_labels) = mnist.load_data()"
   ]
  },
  {
   "cell_type": "code",
   "execution_count": 4,
   "id": "3b26e7c7-a2f5-4883-ba55-4bc126c10004",
   "metadata": {},
   "outputs": [],
   "source": [
    "def reshape_and_normalize_image(images):\n",
    "    rows, width, height = images.shape\n",
    "    images = images.reshape(rows, height, width, 1)  #Reshaping all the images to add an extra dimension at the end of the array\n",
    "\n",
    "    max_pixel = np.max(images)\n",
    "    images = np.divide(images, max_pixel)  #Normalizing the image\n",
    "\n",
    "    return images"
   ]
  },
  {
   "cell_type": "code",
   "execution_count": 5,
   "id": "65534485-f32e-43e1-90b2-465d43cf65db",
   "metadata": {},
   "outputs": [],
   "source": [
    "training_images = reshape_and_normalize_image(training_images)\n",
    "testing_images = reshape_and_normalize_image(testing_images)"
   ]
  },
  {
   "cell_type": "code",
   "execution_count": 10,
   "id": "4f3fb168-f0c5-4676-b07c-03e46df3bbc8",
   "metadata": {},
   "outputs": [],
   "source": [
    "class callback(tf.keras.callbacks.Callback):\n",
    "    def on_epoch_end(self, epoch, logs = {}):\n",
    "        if logs['accuracy'] >= 0.995:\n",
    "            print('Reached 99.5%. Stopping the training')\n",
    "            self.model.stop_training = True"
   ]
  },
  {
   "cell_type": "code",
   "execution_count": 11,
   "id": "ad1533fb-81b0-4da9-bee7-b8eae33faaa5",
   "metadata": {},
   "outputs": [
    {
     "name": "stdout",
     "output_type": "stream",
     "text": [
      "Epoch 1/10\n",
      "\u001b[1m1875/1875\u001b[0m \u001b[32m━━━━━━━━━━━━━━━━━━━━\u001b[0m\u001b[37m\u001b[0m \u001b[1m19s\u001b[0m 10ms/step - accuracy: 0.9060 - loss: 0.3057\n",
      "Epoch 2/10\n",
      "\u001b[1m1875/1875\u001b[0m \u001b[32m━━━━━━━━━━━━━━━━━━━━\u001b[0m\u001b[37m\u001b[0m \u001b[1m19s\u001b[0m 10ms/step - accuracy: 0.9845 - loss: 0.0540\n",
      "Epoch 3/10\n",
      "\u001b[1m1875/1875\u001b[0m \u001b[32m━━━━━━━━━━━━━━━━━━━━\u001b[0m\u001b[37m\u001b[0m \u001b[1m17s\u001b[0m 9ms/step - accuracy: 0.9890 - loss: 0.0358\n",
      "Epoch 4/10\n",
      "\u001b[1m1875/1875\u001b[0m \u001b[32m━━━━━━━━━━━━━━━━━━━━\u001b[0m\u001b[37m\u001b[0m \u001b[1m16s\u001b[0m 8ms/step - accuracy: 0.9934 - loss: 0.0213\n",
      "Epoch 5/10\n",
      "\u001b[1m1875/1875\u001b[0m \u001b[32m━━━━━━━━━━━━━━━━━━━━\u001b[0m\u001b[37m\u001b[0m \u001b[1m17s\u001b[0m 9ms/step - accuracy: 0.9958 - loss: 0.0148\n",
      "Epoch 6/10\n",
      "\u001b[1m1873/1875\u001b[0m \u001b[32m━━━━━━━━━━━━━━━━━━━\u001b[0m\u001b[37m━\u001b[0m \u001b[1m0s\u001b[0m 9ms/step - accuracy: 0.9964 - loss: 0.0113Reached 99.5%. Stopping the training\n",
      "\u001b[1m1875/1875\u001b[0m \u001b[32m━━━━━━━━━━━━━━━━━━━━\u001b[0m\u001b[37m\u001b[0m \u001b[1m18s\u001b[0m 9ms/step - accuracy: 0.9964 - loss: 0.0113\n"
     ]
    },
    {
     "data": {
      "text/plain": [
       "<keras.src.callbacks.history.History at 0x14d43d243d0>"
      ]
     },
     "execution_count": 11,
     "metadata": {},
     "output_type": "execute_result"
    }
   ],
   "source": [
    "model = tf.keras.models.Sequential([\n",
    "    tf.keras.layers.Input(shape=(28,28,1)),\n",
    "    tf.keras.layers.Conv2D(64, (3,3), activation='relu'),\n",
    "    tf.keras.layers.MaxPooling2D(2,2),\n",
    "    tf.keras.layers.Flatten(),\n",
    "    tf.keras.layers.Dense(64, activation='relu'),\n",
    "    tf.keras.layers.Dense(10, activation='softmax')\n",
    "])\n",
    "\n",
    "model.compile(optimizer='adam', loss = tf.keras.losses.SparseCategoricalCrossentropy, metrics=['accuracy'])\n",
    "\n",
    "model.fit(training_images, training_labels, epochs = 10, callbacks=[callback()])"
   ]
  },
  {
   "cell_type": "code",
   "execution_count": 12,
   "id": "c3414fcb-8d85-47e7-81da-de8c593727ae",
   "metadata": {},
   "outputs": [],
   "source": [
    "test_loss, test_accuracy = model.evaluate(testing_images, testing_labels, verbose=False)"
   ]
  },
  {
   "cell_type": "code",
   "execution_count": 13,
   "id": "b51e2ac6-2ae6-48cb-8f72-f1dd7b17ba74",
   "metadata": {},
   "outputs": [
    {
     "data": {
      "text/plain": [
       "(0.04949159175157547, 0.9855999946594238)"
      ]
     },
     "execution_count": 13,
     "metadata": {},
     "output_type": "execute_result"
    }
   ],
   "source": [
    "test_loss, test_accuracy"
   ]
  },
  {
   "cell_type": "code",
   "execution_count": null,
   "id": "6409d76d-1a0a-4387-a13c-fffeafec72b1",
   "metadata": {},
   "outputs": [],
   "source": []
  },
  {
   "cell_type": "code",
   "execution_count": null,
   "id": "ea5ac509-7d0c-460a-854a-db099051cd39",
   "metadata": {},
   "outputs": [],
   "source": []
  }
 ],
 "metadata": {
  "kernelspec": {
   "display_name": "Python 3 (ipykernel)",
   "language": "python",
   "name": "python3"
  },
  "language_info": {
   "codemirror_mode": {
    "name": "ipython",
    "version": 3
   },
   "file_extension": ".py",
   "mimetype": "text/x-python",
   "name": "python",
   "nbconvert_exporter": "python",
   "pygments_lexer": "ipython3",
   "version": "3.10.8"
  }
 },
 "nbformat": 4,
 "nbformat_minor": 5
}
